{
 "cells": [
  {
   "cell_type": "code",
   "execution_count": 1,
   "id": "ce349fea",
   "metadata": {},
   "outputs": [],
   "source": [
    "import pandas as pd\n",
    "import os\n",
    "pd.set_option('display.max_rows', 200)\n",
    "pd.set_option('display.max_columns', 60)\n",
    "pd.__version__\n",
    "import re"
   ]
  },
  {
   "cell_type": "code",
   "execution_count": 2,
   "id": "fdb09291",
   "metadata": {},
   "outputs": [],
   "source": [
    "# reading the csv files\n",
    "def read_xlsx(path):\n",
    "    '''\n",
    "    διαβάζει το xlsx αρχείο,\n",
    "    κρατά συγκεκριμένα columns\n",
    "    \n",
    "    '''\n",
    "    try:\n",
    "        df = pd.read_excel(path, header=1, usecols= column_list)\n",
    "               \n",
    "    except Exception as e:\n",
    "        df = 'error'\n",
    "        print(f\"cannot read {path}. Error: {e}\")\n",
    "    return df"
   ]
  },
  {
   "cell_type": "code",
   "execution_count": 3,
   "id": "b9fd0663",
   "metadata": {},
   "outputs": [],
   "source": [
    "column_list = ['Νομός', 'Ημερ/νία Έναρξης', 'Ώρα Έναρξης', 'Ημερ/νία Κατασβεσης',\n",
    "       'Ώρα Κατάσβεσης', 'Δασαρχείο', 'Δήμος', 'Περιοχή', 'Διεύθυνση', 'Δάση',\n",
    "       'Δασική Έκταση', 'Άλση', 'Χορτ/κές Εκτάσεις', 'Καλάμια - Βάλτοι',\n",
    "       'Γεωργικές Εκτάσεις', 'Υπολλείματα Καλλιεργειών']"
   ]
  },
  {
   "cell_type": "code",
   "execution_count": 4,
   "id": "0692ecf6",
   "metadata": {},
   "outputs": [],
   "source": [
    "# finding the burned area per type\n",
    "def burned_area_calc(df):\n",
    "    \n",
    "    '''\n",
    "    '''\n",
    "    df = df[certain_columns].sum().reset_index()\n",
    "    df = df.rename(columns={'index': 'land_type',\n",
    "                       0 : 'burned_area'})\n",
    "    \n",
    "    return df"
   ]
  },
  {
   "cell_type": "code",
   "execution_count": 5,
   "id": "969e3344",
   "metadata": {},
   "outputs": [],
   "source": [
    "certain_columns = ['Δάση', 'Δασική Έκταση', 'Άλση', 'Χορτ/κές Εκτάσεις',\n",
    "                   'Καλάμια - Βάλτοι', 'Γεωργικές Εκτάσεις', 'Υπολλείματα Καλλιεργειών']"
   ]
  },
  {
   "cell_type": "code",
   "execution_count": 6,
   "id": "9632c230",
   "metadata": {
    "scrolled": true
   },
   "outputs": [
    {
     "data": {
      "text/plain": [
       "8257"
      ]
     },
     "execution_count": 6,
     "metadata": {},
     "output_type": "execute_result"
    }
   ],
   "source": [
    "df2023 = read_xlsx(\"C:\\\\Users\\\\c.marinou\\\\Documents\\\\GitHub\\\\wildfires_drought\\\\wildfires\\\\Dasikes_Pyrkagies_2023_v1.8.xlsx\")\n",
    "len(df2023)"
   ]
  },
  {
   "cell_type": "code",
   "execution_count": 25,
   "id": "355aaa68",
   "metadata": {},
   "outputs": [
    {
     "data": {
      "text/plain": [
       "1769559.0"
      ]
     },
     "execution_count": 25,
     "metadata": {},
     "output_type": "execute_result"
    }
   ],
   "source": [
    "area_2023 = burned_area_calc(df2023)\n",
    "area_2023.burned_area.sum().round()"
   ]
  },
  {
   "cell_type": "code",
   "execution_count": 26,
   "id": "2dcfb046",
   "metadata": {
    "scrolled": true
   },
   "outputs": [
    {
     "data": {
      "text/plain": [
       "9856"
      ]
     },
     "execution_count": 26,
     "metadata": {},
     "output_type": "execute_result"
    }
   ],
   "source": [
    "df2022 = read_xlsx(\"C:\\\\Users\\\\c.marinou\\\\Documents\\\\GitHub\\\\wildfires_drought\\\\wildfires\\\\Dasikes_Pyrkagies_2022_v1.7a.xlsx\")\n",
    "len(df2022)"
   ]
  },
  {
   "cell_type": "code",
   "execution_count": 27,
   "id": "156c234f",
   "metadata": {},
   "outputs": [
    {
     "data": {
      "text/plain": [
       "285399.0"
      ]
     },
     "execution_count": 27,
     "metadata": {},
     "output_type": "execute_result"
    }
   ],
   "source": [
    "area_2022 = burned_area_calc(df2022)\n",
    "area_2022.burned_area.sum().round()"
   ]
  },
  {
   "cell_type": "code",
   "execution_count": 28,
   "id": "623e229c",
   "metadata": {
    "scrolled": true
   },
   "outputs": [
    {
     "data": {
      "text/plain": [
       "9514"
      ]
     },
     "execution_count": 28,
     "metadata": {},
     "output_type": "execute_result"
    }
   ],
   "source": [
    "df2021 = read_xlsx(\"C:\\\\Users\\\\c.marinou\\\\Documents\\\\GitHub\\\\wildfires_drought\\\\wildfires\\\\Dasikes_Pyrkagies_2021.xlsx\")\n",
    "len(df2021)"
   ]
  },
  {
   "cell_type": "code",
   "execution_count": 29,
   "id": "b65e64b0",
   "metadata": {},
   "outputs": [
    {
     "data": {
      "text/plain": [
       "1331534.67"
      ]
     },
     "execution_count": 29,
     "metadata": {},
     "output_type": "execute_result"
    }
   ],
   "source": [
    "area_2021 = burned_area_calc(df2021)\n",
    "area_2021.burned_area.sum()"
   ]
  },
  {
   "cell_type": "code",
   "execution_count": 30,
   "id": "d9baca32",
   "metadata": {
    "scrolled": true
   },
   "outputs": [
    {
     "data": {
      "text/plain": [
       "11799"
      ]
     },
     "execution_count": 30,
     "metadata": {},
     "output_type": "execute_result"
    }
   ],
   "source": [
    "df2020 = read_xlsx(\"C:\\\\Users\\\\c.marinou\\\\Documents\\\\GitHub\\\\wildfires_drought\\\\wildfires\\\\Dasikes_Pyrkagies_2020.xlsx\")\n",
    "len(df2020)"
   ]
  },
  {
   "cell_type": "code",
   "execution_count": 31,
   "id": "637eeb1d",
   "metadata": {},
   "outputs": [
    {
     "data": {
      "text/plain": [
       "221771.0"
      ]
     },
     "execution_count": 31,
     "metadata": {},
     "output_type": "execute_result"
    }
   ],
   "source": [
    "area_2020 = burned_area_calc(df2020)\n",
    "area_2020.burned_area.sum().round()"
   ]
  },
  {
   "cell_type": "code",
   "execution_count": 32,
   "id": "85f92cfd",
   "metadata": {
    "scrolled": true
   },
   "outputs": [
    {
     "data": {
      "text/plain": [
       "9500"
      ]
     },
     "execution_count": 32,
     "metadata": {},
     "output_type": "execute_result"
    }
   ],
   "source": [
    "df2019 = read_xlsx(\"C:\\\\Users\\\\c.marinou\\\\Documents\\\\GitHub\\\\wildfires_drought\\\\wildfires\\\\Dasikes_Pyrkagies_2019_v1.5.xlsx\")\n",
    "len(df2019)"
   ]
  },
  {
   "cell_type": "code",
   "execution_count": 33,
   "id": "0ff771fa",
   "metadata": {},
   "outputs": [
    {
     "data": {
      "text/plain": [
       "162584.0"
      ]
     },
     "execution_count": 33,
     "metadata": {},
     "output_type": "execute_result"
    }
   ],
   "source": [
    "area_2019 = burned_area_calc(df2019)\n",
    "area_2019.burned_area.sum().round()"
   ]
  },
  {
   "cell_type": "code",
   "execution_count": 34,
   "id": "7b0a97d4",
   "metadata": {
    "scrolled": true
   },
   "outputs": [
    {
     "data": {
      "text/plain": [
       "8006"
      ]
     },
     "execution_count": 34,
     "metadata": {},
     "output_type": "execute_result"
    }
   ],
   "source": [
    "df2018 = read_xlsx(\"C:\\\\Users\\\\c.marinou\\\\Documents\\\\GitHub\\\\wildfires_drought\\\\wildfires\\\\Dasikes_Pyrkagies_2018_v1.4.xlsx\")\n",
    "len(df2018)"
   ]
  },
  {
   "cell_type": "code",
   "execution_count": 35,
   "id": "3a4afec5",
   "metadata": {},
   "outputs": [
    {
     "data": {
      "text/plain": [
       "193325.0"
      ]
     },
     "execution_count": 35,
     "metadata": {},
     "output_type": "execute_result"
    }
   ],
   "source": [
    "area_2018 = burned_area_calc(df2018)\n",
    "area_2018.burned_area.sum().round()"
   ]
  },
  {
   "cell_type": "code",
   "execution_count": null,
   "id": "5a27b0ab",
   "metadata": {},
   "outputs": [],
   "source": []
  },
  {
   "cell_type": "code",
   "execution_count": null,
   "id": "830ade20",
   "metadata": {},
   "outputs": [],
   "source": []
  },
  {
   "cell_type": "code",
   "execution_count": null,
   "id": "2c4fe13c",
   "metadata": {},
   "outputs": [],
   "source": []
  },
  {
   "cell_type": "code",
   "execution_count": null,
   "id": "bdb411ae",
   "metadata": {},
   "outputs": [],
   "source": []
  },
  {
   "cell_type": "code",
   "execution_count": null,
   "id": "a66a38c7",
   "metadata": {},
   "outputs": [],
   "source": []
  }
 ],
 "metadata": {
  "kernelspec": {
   "display_name": "Python 3 (ipykernel)",
   "language": "python",
   "name": "python3"
  },
  "language_info": {
   "codemirror_mode": {
    "name": "ipython",
    "version": 3
   },
   "file_extension": ".py",
   "mimetype": "text/x-python",
   "name": "python",
   "nbconvert_exporter": "python",
   "pygments_lexer": "ipython3",
   "version": "3.11.2"
  }
 },
 "nbformat": 4,
 "nbformat_minor": 5
}
