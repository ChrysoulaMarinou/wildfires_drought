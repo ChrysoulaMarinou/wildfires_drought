{
 "cells": [
  {
   "cell_type": "code",
   "execution_count": 1,
   "id": "64a789e3",
   "metadata": {},
   "outputs": [],
   "source": [
    "import pandas as pd\n",
    "import os\n",
    "pd.set_option('display.max_rows', 200)\n",
    "pd.set_option('display.max_columns', 60)\n",
    "pd.__version__\n",
    "import re"
   ]
  },
  {
   "cell_type": "code",
   "execution_count": 2,
   "id": "51c9bd28",
   "metadata": {},
   "outputs": [],
   "source": [
    "# reading the csv files\n",
    "def read_xlsx(path):\n",
    "    '''\n",
    "    διαβάζει το xlsx αρχείο,\n",
    "    κρατά συγκεκριμένα columns\n",
    "    \n",
    "    '''\n",
    "    try:\n",
    "        df = pd.read_excel(path, header=1, usecols= column_list)\n",
    "               \n",
    "    except Exception as e:\n",
    "        df = 'error'\n",
    "        print(f\"cannot read {path}. Error: {e}\")\n",
    "    return df"
   ]
  },
  {
   "cell_type": "code",
   "execution_count": 3,
   "id": "a9a8ea74",
   "metadata": {},
   "outputs": [],
   "source": [
    "column_list = ['Νομός', 'Ημερ/νία Έναρξης', 'Ώρα Έναρξης', 'Ημερ/νία Κατασβεσης',\n",
    "       'Ώρα Κατάσβεσης', 'Δασαρχείο', 'Δήμος', 'Περιοχή', 'Διεύθυνση', 'Δάση',\n",
    "       'Δασική Έκταση', 'Άλση', 'Χορτ/κές Εκτάσεις', 'Καλάμια - Βάλτοι',\n",
    "       'Γεωργικές Εκτάσεις', 'Υπολλείματα Καλλιεργειών']"
   ]
  },
  {
   "cell_type": "code",
   "execution_count": 5,
   "id": "dc080458",
   "metadata": {},
   "outputs": [],
   "source": [
    "# finding the burned area per type\n",
    "def burned_area_calc(df):\n",
    "    '''\n",
    "    υπολογίζει τις\n",
    "    '''\n",
    "    df = df[certain_columns].sum().reset_index()\n",
    "    df = df.rename(columns={'index': 'land_type',\n",
    "                       0 : 'burned_area'})\n",
    "    \n",
    "    return df"
   ]
  },
  {
   "cell_type": "code",
   "execution_count": 6,
   "id": "587770f8",
   "metadata": {},
   "outputs": [],
   "source": [
    "certain_columns = ['Δάση', 'Δασική Έκταση', 'Άλση', 'Χορτ/κές Εκτάσεις',\n",
    "                   'Καλάμια - Βάλτοι', 'Γεωργικές Εκτάσεις', 'Υπολλείματα Καλλιεργειών']"
   ]
  },
  {
   "cell_type": "code",
   "execution_count": 7,
   "id": "34cb8a5e",
   "metadata": {
    "scrolled": true
   },
   "outputs": [
    {
     "data": {
      "text/plain": [
       "8257"
      ]
     },
     "execution_count": 7,
     "metadata": {},
     "output_type": "execute_result"
    }
   ],
   "source": [
    "df2023 = read_xlsx(\"C:\\\\Users\\\\c.marinou\\\\Documents\\\\GitHub\\\\wildfires_drought\\\\wildfires\\\\Dasikes_Pyrkagies_2023_v1.8.xlsx\")\n",
    "len(df2023)"
   ]
  },
  {
   "cell_type": "code",
   "execution_count": 9,
   "id": "4d357325",
   "metadata": {},
   "outputs": [
    {
     "data": {
      "text/html": [
       "<div>\n",
       "<style scoped>\n",
       "    .dataframe tbody tr th:only-of-type {\n",
       "        vertical-align: middle;\n",
       "    }\n",
       "\n",
       "    .dataframe tbody tr th {\n",
       "        vertical-align: top;\n",
       "    }\n",
       "\n",
       "    .dataframe thead th {\n",
       "        text-align: right;\n",
       "    }\n",
       "</style>\n",
       "<table border=\"1\" class=\"dataframe\">\n",
       "  <thead>\n",
       "    <tr style=\"text-align: right;\">\n",
       "      <th></th>\n",
       "      <th>Νομός</th>\n",
       "      <th>Ημερ/νία Έναρξης</th>\n",
       "      <th>Ώρα Έναρξης</th>\n",
       "      <th>Ημερ/νία Κατασβεσης</th>\n",
       "      <th>Ώρα Κατάσβεσης</th>\n",
       "      <th>Δασαρχείο</th>\n",
       "      <th>Δήμος</th>\n",
       "      <th>Περιοχή</th>\n",
       "      <th>Διεύθυνση</th>\n",
       "      <th>Δάση</th>\n",
       "      <th>Δασική Έκταση</th>\n",
       "      <th>Άλση</th>\n",
       "      <th>Χορτ/κές Εκτάσεις</th>\n",
       "      <th>Καλάμια - Βάλτοι</th>\n",
       "      <th>Γεωργικές Εκτάσεις</th>\n",
       "      <th>Υπολλείματα Καλλιεργειών</th>\n",
       "    </tr>\n",
       "  </thead>\n",
       "  <tbody>\n",
       "    <tr>\n",
       "      <th>0</th>\n",
       "      <td>ΑΤΤΙΚΗΣ</td>\n",
       "      <td>2023-03-14</td>\n",
       "      <td>16:28</td>\n",
       "      <td>2023-03-14</td>\n",
       "      <td>17:00</td>\n",
       "      <td>NaN</td>\n",
       "      <td>Δ. ΩΡΩΠΟΥ</td>\n",
       "      <td>ΚΑΛΑΜΟΣ</td>\n",
       "      <td>ΦΑΝΟΣ-ΜΕΤΕΩΡΑ</td>\n",
       "      <td>0.0</td>\n",
       "      <td>0.2</td>\n",
       "      <td>0.0</td>\n",
       "      <td>0.3</td>\n",
       "      <td>0.0</td>\n",
       "      <td>0.00</td>\n",
       "      <td>0.0</td>\n",
       "    </tr>\n",
       "    <tr>\n",
       "      <th>1</th>\n",
       "      <td>ΑΤΤΙΚΗΣ</td>\n",
       "      <td>2023-07-06</td>\n",
       "      <td>13:43</td>\n",
       "      <td>2023-07-12</td>\n",
       "      <td>18:00</td>\n",
       "      <td>NaN</td>\n",
       "      <td>Δ. ΩΡΩΠΟΥ</td>\n",
       "      <td>ΩΡΩΠΟΣ</td>\n",
       "      <td>Λακα-Σπελα</td>\n",
       "      <td>0.0</td>\n",
       "      <td>191.0</td>\n",
       "      <td>0.0</td>\n",
       "      <td>0.0</td>\n",
       "      <td>0.0</td>\n",
       "      <td>0.00</td>\n",
       "      <td>0.0</td>\n",
       "    </tr>\n",
       "    <tr>\n",
       "      <th>2</th>\n",
       "      <td>ΑΤΤΙΚΗΣ</td>\n",
       "      <td>2023-11-05</td>\n",
       "      <td>09:38</td>\n",
       "      <td>2023-11-05</td>\n",
       "      <td>11:45</td>\n",
       "      <td>NaN</td>\n",
       "      <td>Δ. ΩΡΩΠΟΥ</td>\n",
       "      <td>ΚΑΛΑΜΟΣ</td>\n",
       "      <td>ΑΓΚΩΝΑ ΧΙΛΙΟΠΟΤΑΜΟΣ-ΠΕΡΙΦΕΡΙΑΚΗ ΓΡΑΜΜΑΤΙΚΟΥ</td>\n",
       "      <td>0.0</td>\n",
       "      <td>2000.0</td>\n",
       "      <td>0.0</td>\n",
       "      <td>0.0</td>\n",
       "      <td>0.0</td>\n",
       "      <td>0.00</td>\n",
       "      <td>0.0</td>\n",
       "    </tr>\n",
       "    <tr>\n",
       "      <th>3</th>\n",
       "      <td>ΑΤΤΙΚΗΣ</td>\n",
       "      <td>2023-07-18</td>\n",
       "      <td>15:12</td>\n",
       "      <td>NaT</td>\n",
       "      <td>NaN</td>\n",
       "      <td>NaN</td>\n",
       "      <td>Δ. ΧΑΪΔΑΡΙΟΥ</td>\n",
       "      <td>-</td>\n",
       "      <td>ΚΟΙΛΑΔΑ ΔΑΦΝΙΟΥ</td>\n",
       "      <td>0.0</td>\n",
       "      <td>3.0</td>\n",
       "      <td>0.0</td>\n",
       "      <td>0.0</td>\n",
       "      <td>0.0</td>\n",
       "      <td>0.00</td>\n",
       "      <td>0.0</td>\n",
       "    </tr>\n",
       "    <tr>\n",
       "      <th>4</th>\n",
       "      <td>ΑΤΤΙΚΗΣ</td>\n",
       "      <td>2023-07-11</td>\n",
       "      <td>22:56</td>\n",
       "      <td>2023-07-12</td>\n",
       "      <td>02:40</td>\n",
       "      <td>NaN</td>\n",
       "      <td>Δ. ΑΧΑΡΝΩΝ</td>\n",
       "      <td>ΑΧΑΡΝΑΙ</td>\n",
       "      <td>Ρεμα Χελιδονους</td>\n",
       "      <td>0.0</td>\n",
       "      <td>0.5</td>\n",
       "      <td>0.0</td>\n",
       "      <td>0.0</td>\n",
       "      <td>0.0</td>\n",
       "      <td>0.00</td>\n",
       "      <td>0.0</td>\n",
       "    </tr>\n",
       "    <tr>\n",
       "      <th>...</th>\n",
       "      <td>...</td>\n",
       "      <td>...</td>\n",
       "      <td>...</td>\n",
       "      <td>...</td>\n",
       "      <td>...</td>\n",
       "      <td>...</td>\n",
       "      <td>...</td>\n",
       "      <td>...</td>\n",
       "      <td>...</td>\n",
       "      <td>...</td>\n",
       "      <td>...</td>\n",
       "      <td>...</td>\n",
       "      <td>...</td>\n",
       "      <td>...</td>\n",
       "      <td>...</td>\n",
       "      <td>...</td>\n",
       "    </tr>\n",
       "    <tr>\n",
       "      <th>8252</th>\n",
       "      <td>ΖΑΚΥΝΘΟΥ</td>\n",
       "      <td>2023-06-26</td>\n",
       "      <td>13:36</td>\n",
       "      <td>2023-06-28</td>\n",
       "      <td>14:43</td>\n",
       "      <td>NaN</td>\n",
       "      <td>Δ. ΖΑΚΥΝΘΟΥ</td>\n",
       "      <td>ΟΡΘΟΝΙΕΣ</td>\n",
       "      <td>Τ.Κ.ΟΡΘΟΝΙΩΝ</td>\n",
       "      <td>0.0</td>\n",
       "      <td>0.8</td>\n",
       "      <td>0.0</td>\n",
       "      <td>0.0</td>\n",
       "      <td>0.0</td>\n",
       "      <td>0.00</td>\n",
       "      <td>0.0</td>\n",
       "    </tr>\n",
       "    <tr>\n",
       "      <th>8253</th>\n",
       "      <td>ΖΑΚΥΝΘΟΥ</td>\n",
       "      <td>2023-09-04</td>\n",
       "      <td>17:06</td>\n",
       "      <td>2023-09-04</td>\n",
       "      <td>17:40</td>\n",
       "      <td>NaN</td>\n",
       "      <td>Δ. ΖΑΚΥΝΘΟΥ</td>\n",
       "      <td>ΜΑΡΙΕΣ</td>\n",
       "      <td>Τ.Κ. ΜΑΡΙΕΣ</td>\n",
       "      <td>0.0</td>\n",
       "      <td>0.0</td>\n",
       "      <td>0.0</td>\n",
       "      <td>0.0</td>\n",
       "      <td>0.0</td>\n",
       "      <td>0.02</td>\n",
       "      <td>0.0</td>\n",
       "    </tr>\n",
       "    <tr>\n",
       "      <th>8254</th>\n",
       "      <td>ΖΑΚΥΝΘΟΥ</td>\n",
       "      <td>2023-09-04</td>\n",
       "      <td>19:49</td>\n",
       "      <td>NaT</td>\n",
       "      <td>NaN</td>\n",
       "      <td>NaN</td>\n",
       "      <td>Δ. ΖΑΚΥΝΘΟΥ</td>\n",
       "      <td>NaN</td>\n",
       "      <td>ΕΞΩ ΧΩΡΑ</td>\n",
       "      <td>0.5</td>\n",
       "      <td>0.0</td>\n",
       "      <td>0.0</td>\n",
       "      <td>0.0</td>\n",
       "      <td>0.0</td>\n",
       "      <td>0.00</td>\n",
       "      <td>0.0</td>\n",
       "    </tr>\n",
       "    <tr>\n",
       "      <th>8255</th>\n",
       "      <td>ΖΑΚΥΝΘΟΥ</td>\n",
       "      <td>2023-10-21</td>\n",
       "      <td>14:15</td>\n",
       "      <td>2023-10-25</td>\n",
       "      <td>17:35</td>\n",
       "      <td>NaN</td>\n",
       "      <td>Δ. ΖΑΚΥΝΘΟΥ</td>\n",
       "      <td>ΜΑΡΙΕΣ</td>\n",
       "      <td>Τ.Κ.ΜΑΡΡΙΕΣ</td>\n",
       "      <td>30.0</td>\n",
       "      <td>0.0</td>\n",
       "      <td>0.0</td>\n",
       "      <td>0.0</td>\n",
       "      <td>0.0</td>\n",
       "      <td>0.00</td>\n",
       "      <td>0.0</td>\n",
       "    </tr>\n",
       "    <tr>\n",
       "      <th>8256</th>\n",
       "      <td>ΖΑΚΥΝΘΟΥ</td>\n",
       "      <td>2023-11-08</td>\n",
       "      <td>18:32</td>\n",
       "      <td>2023-11-08</td>\n",
       "      <td>20:34</td>\n",
       "      <td>NaN</td>\n",
       "      <td>Δ. ΖΑΚΥΝΘΟΥ</td>\n",
       "      <td>NaN</td>\n",
       "      <td>ΜΕΣΟ ΒΟΛΙΜΑ</td>\n",
       "      <td>0.0</td>\n",
       "      <td>0.0</td>\n",
       "      <td>0.0</td>\n",
       "      <td>0.0</td>\n",
       "      <td>0.0</td>\n",
       "      <td>0.00</td>\n",
       "      <td>0.5</td>\n",
       "    </tr>\n",
       "  </tbody>\n",
       "</table>\n",
       "<p>8257 rows × 16 columns</p>\n",
       "</div>"
      ],
      "text/plain": [
       "         Νομός Ημερ/νία Έναρξης Ώρα Έναρξης Ημερ/νία Κατασβεσης   \n",
       "0      ΑΤΤΙΚΗΣ       2023-03-14       16:28          2023-03-14  \\\n",
       "1      ΑΤΤΙΚΗΣ       2023-07-06       13:43          2023-07-12   \n",
       "2      ΑΤΤΙΚΗΣ       2023-11-05       09:38          2023-11-05   \n",
       "3      ΑΤΤΙΚΗΣ       2023-07-18       15:12                 NaT   \n",
       "4      ΑΤΤΙΚΗΣ       2023-07-11       22:56          2023-07-12   \n",
       "...        ...              ...         ...                 ...   \n",
       "8252  ΖΑΚΥΝΘΟΥ       2023-06-26       13:36          2023-06-28   \n",
       "8253  ΖΑΚΥΝΘΟΥ       2023-09-04       17:06          2023-09-04   \n",
       "8254  ΖΑΚΥΝΘΟΥ       2023-09-04       19:49                 NaT   \n",
       "8255  ΖΑΚΥΝΘΟΥ       2023-10-21       14:15          2023-10-25   \n",
       "8256  ΖΑΚΥΝΘΟΥ       2023-11-08       18:32          2023-11-08   \n",
       "\n",
       "     Ώρα Κατάσβεσης  Δασαρχείο         Δήμος   Περιοχή   \n",
       "0             17:00        NaN     Δ. ΩΡΩΠΟΥ   ΚΑΛΑΜΟΣ  \\\n",
       "1             18:00        NaN     Δ. ΩΡΩΠΟΥ    ΩΡΩΠΟΣ   \n",
       "2             11:45        NaN     Δ. ΩΡΩΠΟΥ   ΚΑΛΑΜΟΣ   \n",
       "3               NaN        NaN  Δ. ΧΑΪΔΑΡΙΟΥ         -   \n",
       "4             02:40        NaN    Δ. ΑΧΑΡΝΩΝ   ΑΧΑΡΝΑΙ   \n",
       "...             ...        ...           ...       ...   \n",
       "8252          14:43        NaN   Δ. ΖΑΚΥΝΘΟΥ  ΟΡΘΟΝΙΕΣ   \n",
       "8253          17:40        NaN   Δ. ΖΑΚΥΝΘΟΥ    ΜΑΡΙΕΣ   \n",
       "8254            NaN        NaN   Δ. ΖΑΚΥΝΘΟΥ       NaN   \n",
       "8255          17:35        NaN   Δ. ΖΑΚΥΝΘΟΥ    ΜΑΡΙΕΣ   \n",
       "8256          20:34        NaN   Δ. ΖΑΚΥΝΘΟΥ       NaN   \n",
       "\n",
       "                                        Διεύθυνση  Δάση  Δασική Έκταση  Άλση   \n",
       "0                                   ΦΑΝΟΣ-ΜΕΤΕΩΡΑ   0.0            0.2   0.0  \\\n",
       "1                                      Λακα-Σπελα   0.0          191.0   0.0   \n",
       "2     ΑΓΚΩΝΑ ΧΙΛΙΟΠΟΤΑΜΟΣ-ΠΕΡΙΦΕΡΙΑΚΗ ΓΡΑΜΜΑΤΙΚΟΥ   0.0         2000.0   0.0   \n",
       "3                                 ΚΟΙΛΑΔΑ ΔΑΦΝΙΟΥ   0.0            3.0   0.0   \n",
       "4                                 Ρεμα Χελιδονους   0.0            0.5   0.0   \n",
       "...                                           ...   ...            ...   ...   \n",
       "8252                                 Τ.Κ.ΟΡΘΟΝΙΩΝ   0.0            0.8   0.0   \n",
       "8253                                  Τ.Κ. ΜΑΡΙΕΣ   0.0            0.0   0.0   \n",
       "8254                                     ΕΞΩ ΧΩΡΑ   0.5            0.0   0.0   \n",
       "8255                                  Τ.Κ.ΜΑΡΡΙΕΣ  30.0            0.0   0.0   \n",
       "8256                                  ΜΕΣΟ ΒΟΛΙΜΑ   0.0            0.0   0.0   \n",
       "\n",
       "      Χορτ/κές Εκτάσεις  Καλάμια - Βάλτοι  Γεωργικές Εκτάσεις   \n",
       "0                   0.3               0.0                0.00  \\\n",
       "1                   0.0               0.0                0.00   \n",
       "2                   0.0               0.0                0.00   \n",
       "3                   0.0               0.0                0.00   \n",
       "4                   0.0               0.0                0.00   \n",
       "...                 ...               ...                 ...   \n",
       "8252                0.0               0.0                0.00   \n",
       "8253                0.0               0.0                0.02   \n",
       "8254                0.0               0.0                0.00   \n",
       "8255                0.0               0.0                0.00   \n",
       "8256                0.0               0.0                0.00   \n",
       "\n",
       "      Υπολλείματα Καλλιεργειών  \n",
       "0                          0.0  \n",
       "1                          0.0  \n",
       "2                          0.0  \n",
       "3                          0.0  \n",
       "4                          0.0  \n",
       "...                        ...  \n",
       "8252                       0.0  \n",
       "8253                       0.0  \n",
       "8254                       0.0  \n",
       "8255                       0.0  \n",
       "8256                       0.5  \n",
       "\n",
       "[8257 rows x 16 columns]"
      ]
     },
     "execution_count": 9,
     "metadata": {},
     "output_type": "execute_result"
    }
   ],
   "source": [
    "df2023"
   ]
  },
  {
   "cell_type": "code",
   "execution_count": 8,
   "id": "b4631c33",
   "metadata": {},
   "outputs": [
    {
     "data": {
      "text/plain": [
       "1769559.0"
      ]
     },
     "execution_count": 8,
     "metadata": {},
     "output_type": "execute_result"
    }
   ],
   "source": [
    "area_2023 = burned_area_calc(df2023)\n",
    "area_2023.burned_area.sum().round()"
   ]
  },
  {
   "cell_type": "code",
   "execution_count": 26,
   "id": "6a1728e3",
   "metadata": {
    "scrolled": true
   },
   "outputs": [
    {
     "data": {
      "text/plain": [
       "9856"
      ]
     },
     "execution_count": 26,
     "metadata": {},
     "output_type": "execute_result"
    }
   ],
   "source": [
    "df2022 = read_xlsx(\"C:\\\\Users\\\\c.marinou\\\\Documents\\\\GitHub\\\\wildfires_drought\\\\wildfires\\\\Dasikes_Pyrkagies_2022_v1.7a.xlsx\")\n",
    "len(df2022)"
   ]
  },
  {
   "cell_type": "code",
   "execution_count": 27,
   "id": "8fc31b88",
   "metadata": {},
   "outputs": [
    {
     "data": {
      "text/plain": [
       "285399.0"
      ]
     },
     "execution_count": 27,
     "metadata": {},
     "output_type": "execute_result"
    }
   ],
   "source": [
    "area_2022 = burned_area_calc(df2022)\n",
    "area_2022.burned_area.sum().round()"
   ]
  },
  {
   "cell_type": "code",
   "execution_count": 28,
   "id": "cc039f11",
   "metadata": {
    "scrolled": true
   },
   "outputs": [
    {
     "data": {
      "text/plain": [
       "9514"
      ]
     },
     "execution_count": 28,
     "metadata": {},
     "output_type": "execute_result"
    }
   ],
   "source": [
    "df2021 = read_xlsx(\"C:\\\\Users\\\\c.marinou\\\\Documents\\\\GitHub\\\\wildfires_drought\\\\wildfires\\\\Dasikes_Pyrkagies_2021.xlsx\")\n",
    "len(df2021)"
   ]
  },
  {
   "cell_type": "code",
   "execution_count": 29,
   "id": "672117a6",
   "metadata": {},
   "outputs": [
    {
     "data": {
      "text/plain": [
       "1331534.67"
      ]
     },
     "execution_count": 29,
     "metadata": {},
     "output_type": "execute_result"
    }
   ],
   "source": [
    "area_2021 = burned_area_calc(df2021)\n",
    "area_2021.burned_area.sum()"
   ]
  },
  {
   "cell_type": "code",
   "execution_count": 30,
   "id": "de6bf73c",
   "metadata": {
    "scrolled": true
   },
   "outputs": [
    {
     "data": {
      "text/plain": [
       "11799"
      ]
     },
     "execution_count": 30,
     "metadata": {},
     "output_type": "execute_result"
    }
   ],
   "source": [
    "df2020 = read_xlsx(\"C:\\\\Users\\\\c.marinou\\\\Documents\\\\GitHub\\\\wildfires_drought\\\\wildfires\\\\Dasikes_Pyrkagies_2020.xlsx\")\n",
    "len(df2020)"
   ]
  },
  {
   "cell_type": "code",
   "execution_count": 31,
   "id": "863c35dc",
   "metadata": {},
   "outputs": [
    {
     "data": {
      "text/plain": [
       "221771.0"
      ]
     },
     "execution_count": 31,
     "metadata": {},
     "output_type": "execute_result"
    }
   ],
   "source": [
    "area_2020 = burned_area_calc(df2020)\n",
    "area_2020.burned_area.sum().round()"
   ]
  },
  {
   "cell_type": "code",
   "execution_count": 32,
   "id": "8740d61d",
   "metadata": {
    "scrolled": true
   },
   "outputs": [
    {
     "data": {
      "text/plain": [
       "9500"
      ]
     },
     "execution_count": 32,
     "metadata": {},
     "output_type": "execute_result"
    }
   ],
   "source": [
    "df2019 = read_xlsx(\"C:\\\\Users\\\\c.marinou\\\\Documents\\\\GitHub\\\\wildfires_drought\\\\wildfires\\\\Dasikes_Pyrkagies_2019_v1.5.xlsx\")\n",
    "len(df2019)"
   ]
  },
  {
   "cell_type": "code",
   "execution_count": 33,
   "id": "ed762992",
   "metadata": {},
   "outputs": [
    {
     "data": {
      "text/plain": [
       "162584.0"
      ]
     },
     "execution_count": 33,
     "metadata": {},
     "output_type": "execute_result"
    }
   ],
   "source": [
    "area_2019 = burned_area_calc(df2019)\n",
    "area_2019.burned_area.sum().round()"
   ]
  },
  {
   "cell_type": "code",
   "execution_count": 34,
   "id": "1f09be34",
   "metadata": {
    "scrolled": true
   },
   "outputs": [
    {
     "data": {
      "text/plain": [
       "8006"
      ]
     },
     "execution_count": 34,
     "metadata": {},
     "output_type": "execute_result"
    }
   ],
   "source": [
    "df2018 = read_xlsx(\"C:\\\\Users\\\\c.marinou\\\\Documents\\\\GitHub\\\\wildfires_drought\\\\wildfires\\\\Dasikes_Pyrkagies_2018_v1.4.xlsx\")\n",
    "len(df2018)"
   ]
  },
  {
   "cell_type": "code",
   "execution_count": 35,
   "id": "a6aa2d6c",
   "metadata": {},
   "outputs": [
    {
     "data": {
      "text/plain": [
       "193325.0"
      ]
     },
     "execution_count": 35,
     "metadata": {},
     "output_type": "execute_result"
    }
   ],
   "source": [
    "area_2018 = burned_area_calc(df2018)\n",
    "area_2018.burned_area.sum().round()"
   ]
  },
  {
   "cell_type": "code",
   "execution_count": null,
   "id": "54f68e42",
   "metadata": {},
   "outputs": [],
   "source": []
  },
  {
   "cell_type": "code",
   "execution_count": null,
   "id": "44066cbc",
   "metadata": {},
   "outputs": [],
   "source": []
  },
  {
   "cell_type": "code",
   "execution_count": null,
   "id": "764433a8",
   "metadata": {},
   "outputs": [],
   "source": []
  },
  {
   "cell_type": "code",
   "execution_count": null,
   "id": "e6444ad0",
   "metadata": {},
   "outputs": [],
   "source": []
  },
  {
   "cell_type": "code",
   "execution_count": null,
   "id": "dabce56c",
   "metadata": {},
   "outputs": [],
   "source": []
  }
 ],
 "metadata": {
  "kernelspec": {
   "display_name": "Python 3 (ipykernel)",
   "language": "python",
   "name": "python3"
  },
  "language_info": {
   "codemirror_mode": {
    "name": "ipython",
    "version": 3
   },
   "file_extension": ".py",
   "mimetype": "text/x-python",
   "name": "python",
   "nbconvert_exporter": "python",
   "pygments_lexer": "ipython3",
   "version": "3.11.2"
  }
 },
 "nbformat": 4,
 "nbformat_minor": 5
}
